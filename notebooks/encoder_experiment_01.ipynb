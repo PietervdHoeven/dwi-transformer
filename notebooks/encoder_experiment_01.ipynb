{
 "cells": [
  {
   "cell_type": "code",
   "execution_count": 1,
   "id": "c6e562d5",
   "metadata": {},
   "outputs": [
    {
     "name": "stdout",
     "output_type": "stream",
     "text": [
      "Using device: cuda\n",
      "/home/spieterman/dev/projects/dwi-transformer/.venv/bin/python\n"
     ]
    }
   ],
   "source": [
    "import os, sys\n",
    "# adjust this path if your repo is elsewhere\n",
    "proj_root = os.path.abspath(os.path.join(os.getcwd(), os.pardir))\n",
    "if proj_root not in sys.path:\n",
    "    sys.path.append(proj_root)\n",
    "\n",
    "# confirm device\n",
    "import torch\n",
    "DEVICE = \"cuda\" if torch.cuda.is_available() else \"cpu\"\n",
    "print(\"Using device:\", DEVICE)\n",
    "print(sys.executable)"
   ]
  },
  {
   "cell_type": "code",
   "execution_count": 2,
   "id": "b402686d",
   "metadata": {},
   "outputs": [
    {
     "name": "stdout",
     "output_type": "stream",
     "text": [
      "Data directory: /home/spieterman/dev/projects/dwi-transformer/data/encoder\n"
     ]
    }
   ],
   "source": [
    "# Shape of each 3D volume (after your resampling step)\n",
    "IMG_SHAPE = (91, 109, 91)\n",
    "\n",
    "# Latent dimension for all AEs\n",
    "LATENT_DIM = 256\n",
    "\n",
    "# Training settings\n",
    "BATCH_SIZE = 4\n",
    "LR = 1e-5\n",
    "EPOCHS = 50\n",
    "\n",
    "# Paths\n",
    "DATA_DIR = os.path.join(proj_root, \"data\", \"encoder\")\n",
    "print(\"Data directory:\", DATA_DIR)"
   ]
  },
  {
   "cell_type": "code",
   "execution_count": 3,
   "id": "646a7612",
   "metadata": {},
   "outputs": [],
   "source": [
    "import torch.nn as nn\n",
    "from torch.utils.data import DataLoader, Dataset\n",
    "import nibabel as nib\n",
    "import numpy as np\n",
    "import matplotlib.pyplot as plt"
   ]
  },
  {
   "cell_type": "code",
   "execution_count": 4,
   "id": "3ebccf72",
   "metadata": {},
   "outputs": [
    {
     "name": "stdout",
     "output_type": "stream",
     "text": [
      "Unique volume shapes found:\n",
      "(91, 109, 91, 26): 151 files\n",
      "(91, 109, 91): 239 files\n",
      "(91, 109, 91, 91): 61 files\n",
      "(91, 109, 91, 65): 9 files\n",
      "(91, 109, 91, 13): 5 files\n",
      "(91, 109, 91, 52): 1 file\n",
      "(91, 109, 91, 69): 2 files\n",
      "(91, 109, 91, 2): 8 files\n",
      "(91, 109, 91, 50): 1 file\n",
      "(91, 109, 91, 48): 1 file\n"
     ]
    }
   ],
   "source": [
    "import os\n",
    "from collections import Counter\n",
    "import nibabel as nib\n",
    "\n",
    "RAW_DATA_DIR = \"/home/spieterman/dev/projects/dwi-preprocessing/data/preproc/\"\n",
    "\n",
    "def find_nifti_files(root_dir):\n",
    "    for dirpath, _, filenames in os.walk(root_dir):\n",
    "        for fn in filenames:\n",
    "            if fn.endswith((\".nii.gz\")):\n",
    "                yield os.path.join(dirpath, fn)\n",
    "\n",
    "shape_counts = Counter()\n",
    "errors = []\n",
    "\n",
    "for path in find_nifti_files(RAW_DATA_DIR):\n",
    "    try:\n",
    "        img = nib.load(path)\n",
    "        shape_counts[img.shape] += 1\n",
    "    except Exception as e:\n",
    "        errors.append((path, str(e)))\n",
    "\n",
    "# Display results\n",
    "print(\"Unique volume shapes found:\")\n",
    "for shape, count in shape_counts.items():\n",
    "    print(f\"{shape}: {count} file{'s' if count>1 else ''}\")\n",
    "\n",
    "if errors:\n",
    "    print(f\"\\n  {len(errors)} file(s) failed to load:\")\n",
    "    for p, err in errors[:5]:\n",
    "        print(f\"    - {p}: {err}\")\n",
    "    if len(errors)>5:\n",
    "        print(f\"    ... and {len(errors)-5} more\")\n"
   ]
  },
  {
   "cell_type": "code",
   "execution_count": 5,
   "id": "b405a19b",
   "metadata": {},
   "outputs": [],
   "source": [
    "from pathlib import Path\n",
    "import numpy as np, nibabel as nib, json, argparse\n",
    "from tqdm import tqdm\n",
    "\n",
    "ROOT   = Path(\"/home/spieterman/dev/projects/dwi-preprocessing/data/preproc\")\n",
    "CACHE  = Path(\"/home/spieterman/dev/projects/dwi-transformer/data/encoder\")                                       # output root\n",
    "CACHE.mkdir(exist_ok=True)\n",
    "\n",
    "def find_sessions(root: Path):\n",
    "    return sorted(root.rglob(\"*_dwi_allruns.nii.gz\"))\n",
    "\n",
    "def normalise_dwi(dwi_data: np.ndarray, bvals: np.ndarray):\n",
    "    \"\"\"\n",
    "    Load a 4-D DWI series and apply robust, session-level gain and z-score normalisation.\n",
    "\n",
    "    Parameters\n",
    "    ----------\n",
    "    dwi_path : Path\n",
    "        Path to the cleaned 4-D DWI NIfTI (shape [X,Y,Z,N]).\n",
    "    bval_path : Path\n",
    "        Path to the matching .bval file (one row of N b-values).\n",
    "\n",
    "    Returns\n",
    "    -------\n",
    "    dwi_norm : ndarray (float32)\n",
    "        The fully normalised DWI data (same shape as input).\n",
    "    stats : dict\n",
    "        {\n",
    "          'gain': float,       # scale factor applied to align b0 median → 1.0\n",
    "          'mean': float,       # session-wide mean after gain scaling\n",
    "          'std':  float        # session-wide std  after gain scaling\n",
    "        }\n",
    "    \"\"\"\n",
    "\n",
    "    # 1) Identify all b0 volumes (b-value == 0)\n",
    "    b0_indices  = np.where(bvals == 0)[0]         # e.g. array([0, 10, 20])\n",
    "\n",
    "    # 2) Extract those b0 volumes and form a union-mask of nonzero voxels\n",
    "    #    (handles slight mis-alignments: if *any* run has signal, we treat it as brain)\n",
    "    b0_volumes = np.take(dwi_data, b0_indices, axis=3)  # shape (X, Y, Z, N_b0)\n",
    "    mask       = np.any(b0_volumes > 0, axis=3)         # boolean mask [X,Y,Z]\n",
    "\n",
    "    # 3) Remove any stray zero-intensity voxels inside the union mask\n",
    "    #    (e.g. holes due to warping) before computing the gain\n",
    "    b0_values  = b0_volumes[mask].ravel()\n",
    "    b0_values  = b0_values[b0_values > 0]               # drop zeros\n",
    "\n",
    "    # 4) SESSION-GAIN NORMALISATION:\n",
    "    #    Anchor the median of all b0 tissue intensities to 1.0,\n",
    "    #    removing scanner-/coil-level scale differences across sessions\n",
    "    gain       = 1.0 / (np.median(b0_values) + 1e-12)\n",
    "    dwi_scaled = dwi_data * gain\n",
    "\n",
    "    # 5) SESSION-WIDE Z-SCORE NORMALISATION:\n",
    "    #    Compute mean/std across all brain voxels in all volumes,\n",
    "    #    giving zero-mean/unit-variance inputs for the autoencoder,\n",
    "    #    yet preserving relative shell attenuation patterns.\n",
    "    dwi_values = dwi_scaled[mask, ...].ravel()\n",
    "    dwi_values = dwi_values[dwi_values > 0]              # drop any sneaky zeros\n",
    "    mean       = dwi_values.mean()\n",
    "    std        = dwi_values.std() + 1e-6\n",
    "    dwi_norm   = (dwi_scaled - mean) / std\n",
    "\n",
    "    # 6) Return the normalised data plus the stats for reproducibility\n",
    "    return dwi_norm.astype(np.float32)\n",
    "\n",
    "\n",
    "def process_session(dwi_path: Path):\n",
    "    \"\"\"\n",
    "    Process a single 4-D DWI session and cache its 3-D gradient volumes.\n",
    "\n",
    "    Parameters\n",
    "    ----------\n",
    "    dwi_path : pathlib.Path\n",
    "        Path to the cleaned 4-D DWI NIfTI file (shape [X, Y, Z, N]).\n",
    "\n",
    "    Steps\n",
    "    -----\n",
    "    1) Derive the matching .bval and .bvec file paths.\n",
    "    2) Parse patient ID (sub-XXX) and session ID (ses-YYY) from the filename.\n",
    "    3) Create an output directory at CACHE/sub-XXX/ses-YYY/.\n",
    "    4) Load the raw 4-D DWI data and corresponding b-values.\n",
    "    5) Load the .bval file containing the b-values for each gradient.\n",
    "    6) Normalize the entire volume (session-level gain + z-score).\n",
    "    7) Split the normalized 4-D volume into N individual 3-D gradient arrays and save each gradient as a compressed .npz containing:\n",
    "        - vol_data: 3-D image array\n",
    "        - bval: single float b-value\n",
    "        - bvec: 3-D b-vector (if available, currently not used)\n",
    "        - affine: 4 x 4 spatial transform\n",
    "        - patient, session tags\n",
    "    \"\"\"\n",
    "\n",
    "    # 1) Derive file stems for .bval and .bvec\n",
    "    #    We strip off the trailing \".nii.gz\" by slicing off 7 chars\n",
    "    base      = dwi_path.with_suffix(\"\").with_suffix(\"\")  # remove .nii.gz (with_suffix only removes one suffix at a time)\n",
    "    bval_path = base.with_suffix(\".bval\")\n",
    "    bvec_path = base.with_suffix(\".bvec\")\n",
    "\n",
    "    # 2) Extract patient & session IDs from the BIDS-style filename\n",
    "    #    Filename looks like \"sub-XXX_ses-YYY_dwi_allruns.nii.gz\"\n",
    "    p_id = base.name.split(\"_\")[0]  # e.g. \"sub-0001\"\n",
    "    s_id = base.name.split(\"_\")[1]  # e.g. \"ses-01\"\n",
    "\n",
    "    # 3) Prepare the output folder for this session\n",
    "    #    e.g. cache/sub-0001_ses-01/\n",
    "    out_dir = CACHE / p_id / s_id\n",
    "    out_dir.mkdir(parents=True, exist_ok=True)\n",
    "\n",
    "    # 4) Load the 4-D DWI image (keeps affine + header for later)\n",
    "    dwi_img = nib.load(dwi_path)                             # nibabel Nifti1Image\n",
    "    dwi_raw = dwi_img.get_fdata().astype(np.float32)         # (X, Y, Z, N)\n",
    "\n",
    "    # 5) Load acquisition metadata\n",
    "    #    .bval: one row of N diffusion weightings\n",
    "    #    .bvec: 3×N axis vectors\n",
    "    bvals = np.loadtxt(bval_path)                            # shape (N,)\n",
    "    # bvecs = np.loadtxt(bvec_path)                            # shape (3, N)\n",
    "\n",
    "    # 6) Normalize the 4-D data with our robust session-level function\n",
    "    #    Returns the normalized array\n",
    "    dwi_norm = normalise_dwi(dwi_raw, bvals)\n",
    "\n",
    "    # 7) Split the normalized 4-D volume into individual 3-D gradient volumes\n",
    "    #    and save each as a compressed .npz with all relevant metadata.\n",
    "    for g in range(dwi_norm.shape[3]):\n",
    "        vol_data = dwi_norm[..., g]  # 3-D array (X, Y, Z)\n",
    "\n",
    "        out_file = out_dir / f\"{p_id}_{s_id}_grad{g:03d}.npz\"\n",
    "        np.savez_compressed(\n",
    "            out_file,\n",
    "            vol_data=vol_data,                          # 3D gradient volume (X, Y, Z)\n",
    "            bval=np.float32(bvals[g]),                  # single b-value for this gradient\n",
    "            # bvec=np.float32(bvecs[:, g]),             # 3D b-vector for this gradient TODO: bvecs are wrongly concatenated over runs\n",
    "            affine=dwi_img.affine.astype(np.float32),   # preserves spatial orientation for nifti reconstruction\n",
    "            patient=p_id,                               # for downstream grouping or sampling\n",
    "            session=s_id                                # ditto\n",
    "        )\n",
    "\n",
    "\n",
    "# # if __name__ == \"__main__\":\n",
    "# for dwi_file in tqdm(find_sessions(Path(ROOT))):\n",
    "#     process_session(dwi_file)\n"
   ]
  },
  {
   "cell_type": "code",
   "execution_count": 6,
   "id": "99739930",
   "metadata": {},
   "outputs": [],
   "source": [
    "from torch.utils.data import Dataset\n",
    "\n",
    "class AEVolumes(Dataset):\n",
    "    def __init__(self, cache_root: str):\n",
    "        # 1) Find all cached gradient files\n",
    "        self.files = sorted(Path(cache_root).rglob(\"*grad*.npz\"))\n",
    "\n",
    "        # 2) Preload metadata for sampling weights\n",
    "        self.patients = []\n",
    "        self.sessions = []\n",
    "        self.bvals    = []\n",
    "        for f in self.files:\n",
    "            data = np.load(f)\n",
    "            # Extract scalar metadata\n",
    "            self.patients.append(data[\"patient\"].item())  # e.g. \"sub-0001\"\n",
    "            self.sessions.append(data[\"session\"].item())  # e.g. \"ses-01\"\n",
    "            self.bvals.append(float(data[\"bval\"].item()))\n",
    "\n",
    "    def __len__(self):\n",
    "        return len(self.files)\n",
    "\n",
    "    def __getitem__(self, idx):\n",
    "        # 1) Load the .npz\n",
    "        data = np.load(self.files[idx])\n",
    "\n",
    "        # 2) Volume: [1, X, Y, Z]\n",
    "        vol = torch.from_numpy(data[\"vol_data\"]).unsqueeze(0).float()\n",
    "\n",
    "        # 3) Acquisition metadata\n",
    "        bval = torch.tensor(float(data[\"bval\"].item()), dtype=torch.float32)\n",
    "        # bvec = torch.from_numpy(data[\"bvec\"].astype(np.float32))\n",
    "\n",
    "        # 4) Spatial metadata\n",
    "        affine = torch.from_numpy(data[\"affine\"].astype(np.float32))  # [4, 4]\n",
    "\n",
    "        # 5) Patient tags\n",
    "        patient = data[\"patient\"].item()  # string\n",
    "        session = data[\"session\"].item()  # string\n",
    "\n",
    "        return {\n",
    "            \"vol\":     vol,\n",
    "            \"bval\":    bval,\n",
    "            # \"bvec\":    bvec,\n",
    "            \"affine\":  affine,\n",
    "            \"patient\": patient,\n",
    "            \"session\": session,\n",
    "        }"
   ]
  },
  {
   "cell_type": "code",
   "execution_count": 7,
   "id": "b40632be",
   "metadata": {},
   "outputs": [],
   "source": [
    "from collections import Counter, defaultdict\n",
    "from torch.utils.data import WeightedRandomSampler\n",
    "\n",
    "def make_balanced_sampler(\n",
    "    dataset, alpha=0.3\n",
    "):\n",
    "    \"\"\"\n",
    "    Build a sampler that up-weights rare shells but still lets b=1000\n",
    "    be seen fairly often. We use w_shell[b] = 1 / (k_b ** alpha).\n",
    "    \"\"\"\n",
    "\n",
    "    # 1) Count how many sessions per patient\n",
    "    patient2sessions = defaultdict(set)\n",
    "    for p, s in zip(dataset.patients, dataset.sessions):\n",
    "        patient2sessions[p].add(s)\n",
    "    S_counts = {p: len(sset) for p, sset in patient2sessions.items()} # |S_p| for each patient p\n",
    "    # e.g. {'sub-0001': 3, 'sub-0002': 2, ...} where 3 means 3 sessions for that patient\n",
    "\n",
    "    # 2) Count how many volumes in each (patient,session)\n",
    "    sess_keys   = list(zip(dataset.patients, dataset.sessions))\n",
    "    V_cnt = Counter(sess_keys)    # |V_{p,s}| for each (patient, session) pair\n",
    "    # e.g. {('sub-OAS30001', 'ses-d0757'): 26, ('sub-OAS30001', 'ses-d1234'): 120, ...}\n",
    "\n",
    "    # 3) Count how many volumes in each shell\n",
    "    shell_cnt = Counter(dataset.bvals)  # N_b for each b-value\n",
    "    # e.g. {0: 300, 500: 320, 1000: 4500, ...}\n",
    "\n",
    "    # 4) Build the “power‐law” shell weights\n",
    "    #    Smaller alpha -> less flattening; alpha=1 -> full flattening; alpha=0 -> no flatten.\n",
    "    w_shell = {b: 1.0 / (shell_cnt[b] ** alpha) for b in shell_cnt}\n",
    "\n",
    "    # 5) Build the final weights for each sample\n",
    "    weights = []\n",
    "    for (p, s, b) in zip(dataset.patients, dataset.sessions, dataset.bvals):\n",
    "        w  = 1.0 / S_counts[p]                  # patient factor\n",
    "        w *= 1.0 / V_cnt[(p, s)]                # session factor\n",
    "        w *= 1.0 / (shell_cnt[b] ** alpha)      # tempered shell factor\n",
    "        w *= 10                                 # boost the weights to make them more pronounced\n",
    "        weights.append(w)\n",
    "\n",
    "    # 6) Create the PyTorch sampler\n",
    "    sampler = WeightedRandomSampler(\n",
    "        weights=torch.DoubleTensor(weights),\n",
    "        num_samples=len(weights),\n",
    "        replacement=True\n",
    "    )\n",
    "    return sampler"
   ]
  },
  {
   "cell_type": "code",
   "execution_count": 8,
   "id": "ef9ed680",
   "metadata": {},
   "outputs": [
    {
     "name": "stdout",
     "output_type": "stream",
     "text": [
      "10431 volumes found in cache\n"
     ]
    },
    {
     "data": {
      "image/png": "[encoded data removed]",
      "text/plain": [
       "<Figure size 800x500 with 1 Axes>"
      ]
     },
     "metadata": {},
     "output_type": "display_data"
    },
    {
     "data": {
      "image/png": "[encoded data removed]",
      "text/plain": [
       "<Figure size 800x400 with 1 Axes>"
      ]
     },
     "metadata": {},
     "output_type": "display_data"
    },
    {
     "data": {
      "image/png": "[encoded data removed]",
      "text/plain": [
       "<Figure size 800x400 with 1 Axes>"
      ]
     },
     "metadata": {},
     "output_type": "display_data"
    },
    {
     "name": "stdout",
     "output_type": "stream",
     "text": [
      " Min weight: 0.0366, Max weight: 5.0000, Mean weight: 0.1793\n"
     ]
    }
   ],
   "source": [
    "import matplotlib.pyplot as plt\n",
    "import numpy as np\n",
    "\n",
    "CACHE  = Path(\"/home/spieterman/dev/projects/dwi-transformer/data/encoder\") \n",
    "dataset = AEVolumes(cache_root=str(CACHE))\n",
    "print(len(dataset), \"volumes found in cache\")\n",
    "# Suppose `bvals` is your existing Python list or NumPy array of b-values:\n",
    "# bvals = [0, 1000, 1000, 2000, 0, 1500, 3000, …]\n",
    "\n",
    "# If it’s a Python list, convert to a NumPy array:\n",
    "bvals = np.array(dataset.bvals)\n",
    "\n",
    "# Plot the histogram\n",
    "plt.figure(figsize=(8, 5))\n",
    "plt.hist(bvals, bins=100, edgecolor=\"black\")\n",
    "plt.title(\"Histogram of b-values\")\n",
    "plt.xlabel(\"b-value (s/mm²)\")\n",
    "plt.ylabel(\"Number of Volumes\")\n",
    "plt.grid(axis=\"y\", alpha=0.5)\n",
    "plt.show()\n",
    "\n",
    "# Create the dataset and sampler\n",
    "sampler = make_balanced_sampler(dataset, alpha=0.0)\n",
    "\n",
    "# 2a) plot the distribution of weights\n",
    "weights = [w for w in sampler.weights]\n",
    "plt.figure(figsize=(8, 4))\n",
    "plt.hist(weights, bins=50, edgecolor=\"black\")\n",
    "plt.title(\"Histogram of Sampling Weights (linear scale)\")\n",
    "plt.xlabel(\"Weight\")\n",
    "plt.ylabel(\"Number of Volumes\")\n",
    "plt.grid(axis=\"y\", alpha=0.6)\n",
    "plt.show()\n",
    "\n",
    "# 2b) Log‐scale histogram (bins spaced logarithmically)\n",
    "log_bins = np.logspace(np.log10(min(weights)+1e-8), np.log10(max(weights)), 50)\n",
    "plt.figure(figsize=(8, 4))\n",
    "plt.hist(weights, bins=log_bins, edgecolor=\"black\")\n",
    "plt.xscale(\"log\")\n",
    "plt.title(\"Histogram of Sampling Weights (log scale)\")\n",
    "plt.xlabel(\"Weight (log scale)\")\n",
    "plt.ylabel(\"Number of Volumes\")\n",
    "plt.grid(True, which=\"both\", ls=\"--\", alpha=0.6)\n",
    "plt.show()\n",
    "\n",
    "print(f\" Min weight: {min(weights):.4f}, Max weight: {max(weights):.4f}, Mean weight: {np.mean(weights):.4f}\")"
   ]
  },
  {
   "cell_type": "code",
   "execution_count": 9,
   "id": "47c935f0",
   "metadata": {},
   "outputs": [
    {
     "name": "stdout",
     "output_type": "stream",
     "text": [
      "torch.Size([1, 1, 91, 109, 91])\n"
     ]
    }
   ],
   "source": [
    "from models.auto_encoders import SlimAutoencoder\n",
    "\n",
    "import gc\n",
    "import torch\n",
    "\n",
    "torch.cuda.empty_cache()  # releases unoccupied cached memory\n",
    "gc.collect()              # collects Python garbage\n",
    "\n",
    "x = torch.randn(1, 1, *IMG_SHAPE).to(DEVICE)  # Example input tensor with shape [1, 1, 91, 109, 91]\n",
    "\n",
    "model = SlimAutoencoder(z_dim=LATENT_DIM).to(DEVICE)\n",
    "\n",
    "out = model(x)\n",
    "\n",
    "print(out.shape)  # Should be [1, 1, 91, 109, 91] if the output shape matches input shape"
   ]
  },
  {
   "cell_type": "code",
   "execution_count": 10,
   "id": "72f831c5",
   "metadata": {},
   "outputs": [
    {
     "name": "stdout",
     "output_type": "stream",
     "text": [
      "batch_size=2 fits\n",
      "batch_size=4 fits\n",
      "batch_size=8 fits\n",
      "batch_size=16 fits\n",
      "batch_size=32 -> OOM\n"
     ]
    }
   ],
   "source": [
    "for b in [2, 4, 8, 16, 32, 64]:\n",
    "    try:\n",
    "        loader = DataLoader(\n",
    "            dataset,\n",
    "            batch_size=b,\n",
    "            sampler=sampler,\n",
    "            num_workers=8,\n",
    "            pin_memory=True\n",
    "        )\n",
    "        # Run one forward and backward pass:\n",
    "        vol = next(iter(loader))[\"vol\"].to(DEVICE)\n",
    "        with torch.no_grad():\n",
    "            _ = model(vol)\n",
    "        print(f\"batch_size={b} fits\")\n",
    "    except RuntimeError as e:\n",
    "        if \"out of memory\" in str(e):\n",
    "            print(f\"batch_size={b} -> OOM\")\n",
    "            break\n",
    "        else:\n",
    "            raise\n",
    "\n",
    "# Clean up memory\n",
    "torch.cuda.empty_cache()  # releases unoccupied cached memory\n",
    "gc.collect()              # collects Python garbage\n",
    "del model  # or any other large tensor/model"
   ]
  },
  {
   "cell_type": "code",
   "execution_count": 11,
   "id": "00a71bc6",
   "metadata": {},
   "outputs": [],
   "source": [
    "from torch.utils.data import Subset\n",
    "import numpy as np\n",
    "import torch\n",
    "\n",
    "\n",
    "def create_val_test_split(\n",
    "        dataset,\n",
    "        val_fraction: float = 0.1,\n",
    "        seed: int = 42\n",
    "):\n",
    "    \"\"\"\n",
    "    Randomly split `dataset` into train / val subsets **and**\n",
    "    attach `.patients`  and `.sessions` lists that correspond\n",
    "    only to the samples inside each subset.\n",
    "\n",
    "    Returns\n",
    "    -------\n",
    "    train_subset : torch.utils.data.Subset\n",
    "    val_subset   : torch.utils.data.Subset\n",
    "    \"\"\"\n",
    "    n_total = len(dataset)\n",
    "    n_val   = int(np.floor(val_fraction * n_total))\n",
    "\n",
    "    # deterministic shuffle\n",
    "    rng      = np.random.default_rng(seed)\n",
    "    all_idx  = np.arange(n_total)\n",
    "    rng.shuffle(all_idx)\n",
    "\n",
    "    val_idx   = all_idx[:n_val]\n",
    "    train_idx = all_idx[n_val:]\n",
    "\n",
    "    def make_subset(idxs):\n",
    "        sub = Subset(dataset, idxs.tolist())\n",
    "        # attach split-specific metadata for later weighting\n",
    "        sub.patients  = [dataset.patients[i]  for i in idxs]\n",
    "        sub.sessions  = [dataset.sessions[i]  for i in idxs]\n",
    "        sub.bvals     = [dataset.bvals[i]     for i in idxs]\n",
    "\n",
    "        return sub\n",
    "\n",
    "    return make_subset(train_idx), make_subset(val_idx)\n"
   ]
  },
  {
   "cell_type": "code",
   "execution_count": 12,
   "id": "d0906546",
   "metadata": {},
   "outputs": [],
   "source": [
    "val_fraction = 0.1\n",
    "val_size = int(len(dataset) * val_fraction)\n",
    "train_size = len(dataset) - val_size\n",
    "\n",
    "# reproducible split\n",
    "generator = torch.Generator().manual_seed(42)\n",
    "train_ds, val_ds = create_val_test_split(\n",
    "    dataset,\n",
    "    val_fraction=val_fraction,\n",
    "    seed=42\n",
    ")\n",
    "\n",
    "# Create balanced samplers for training and validation datasets\n",
    "train_sampler = make_balanced_sampler(train_ds, alpha=0.0)  # Use alpha=0.0 for no flattening\n",
    "val_sampler = make_balanced_sampler(val_ds, alpha=0.0)    # Use alpha=0.0 for no flattening\n",
    "\n",
    "# Create the DataLoaders for training and validation\n",
    "train_loader = DataLoader(\n",
    "    dataset,\n",
    "    batch_size=BATCH_SIZE,\n",
    "    sampler=train_sampler,\n",
    "    num_workers=8,\n",
    "    pin_memory=True\n",
    ")\n",
    "val_loader = DataLoader(\n",
    "    dataset,\n",
    "    batch_size=BATCH_SIZE,\n",
    "    sampler=val_sampler,\n",
    "    num_workers=8,\n",
    "    pin_memory=True\n",
    ")"
   ]
  },
  {
   "cell_type": "code",
   "execution_count": null,
   "id": "e4ff646c",
   "metadata": {},
   "outputs": [],
   "source": [
    "from tqdm import tqdm\n",
    "\n",
    "def run_epoch(model, loader, criterion, optimiser=None):\n",
    "    \"\"\"\n",
    "    Train if `optimizer` is given, otherwise just validate.\n",
    "    Returns the average loss for the epoch.\n",
    "    \"\"\"\n",
    "    is_train = optimiser is not None\n",
    "    model.train(mode=is_train)\n",
    "    running_loss, n_batches = 0.0, 0\n",
    "\n",
    "    print(\"Mode:\", \"Train\" if is_train else \"Eval\")\n",
    "    print(\"Using\", DEVICE)\n",
    "    print(f\"Batch size: {loader.batch_size}, Batches: {len(loader)}, Samples: {len(loader.dataset)}\")\n",
    "    print(f\"Patients: {len(set(loader.dataset.patients))}, Sessions: {len(set(loader.dataset.sessions))}\")\n",
    "\n",
    "    context = torch.enable_grad() if is_train else torch.no_grad()\n",
    "    with context:\n",
    "        for entry in tqdm(loader):\n",
    "            x = entry[\"vol\"].to(DEVICE, dtype=torch.float32, non_blocking=True)\n",
    "\n",
    "            # Forward\n",
    "            recon = model(x)\n",
    "            loss = criterion(recon, x)\n",
    "\n",
    "            if is_train:\n",
    "                optimiser.zero_grad(set_to_none=True)\n",
    "                loss.backward()\n",
    "                optimiser.step()\n",
    "\n",
    "            running_loss += loss.item()\n",
    "            n_batches += 1\n",
    "\n",
    "    return running_loss / n_batches"
   ]
  },
  {
   "cell_type": "code",
   "execution_count": 14,
   "id": "cdb7ba8b",
   "metadata": {},
   "outputs": [
    {
     "name": "stdout",
     "output_type": "stream",
     "text": [
      "Mode: Train\n",
      "Using cuda\n",
      "Batch size: 4, Batches: 2347, Samples: 10431\n",
      "Patients: 187, Sessions: 218\n"
     ]
    },
    {
     "name": "stderr",
     "output_type": "stream",
     "text": [
      "100%|██████████| 2347/2347 [19:32<00:00,  2.00it/s]\n"
     ]
    },
    {
     "name": "stdout",
     "output_type": "stream",
     "text": [
      "Mode: Eval\n",
      "Using cuda\n",
      "Batch size: 4, Batches: 261, Samples: 10431\n",
      "Patients: 187, Sessions: 218\n"
     ]
    },
    {
     "name": "stderr",
     "output_type": "stream",
     "text": [
      "100%|██████████| 261/261 [00:38<00:00,  6.73it/s]\n"
     ]
    },
    {
     "name": "stdout",
     "output_type": "stream",
     "text": [
      "Epoch 01 | train 3.4579e-01 | val 2.1792e-01\n",
      "New best model saved to /home/spieterman/dev/projects/dwi-transformer/checkpoints/best_ae.pt (val=2.1792e-01)\n",
      "Mode: Train\n",
      "Using cuda\n",
      "Batch size: 4, Batches: 2347, Samples: 10431\n",
      "Patients: 187, Sessions: 218\n"
     ]
    },
    {
     "name": "stderr",
     "output_type": "stream",
     "text": [
      "100%|██████████| 2347/2347 [19:30<00:00,  2.00it/s]\n"
     ]
    },
    {
     "name": "stdout",
     "output_type": "stream",
     "text": [
      "Mode: Eval\n",
      "Using cuda\n",
      "Batch size: 4, Batches: 261, Samples: 10431\n",
      "Patients: 187, Sessions: 218\n"
     ]
    },
    {
     "name": "stderr",
     "output_type": "stream",
     "text": [
      "100%|██████████| 261/261 [00:38<00:00,  6.73it/s]\n"
     ]
    },
    {
     "name": "stdout",
     "output_type": "stream",
     "text": [
      "Epoch 02 | train 1.4210e-01 | val 1.3553e-01\n",
      "New best model saved to /home/spieterman/dev/projects/dwi-transformer/checkpoints/best_ae.pt (val=1.3553e-01)\n",
      "Mode: Train\n",
      "Using cuda\n",
      "Batch size: 4, Batches: 2347, Samples: 10431\n",
      "Patients: 187, Sessions: 218\n"
     ]
    },
    {
     "name": "stderr",
     "output_type": "stream",
     "text": [
      "100%|██████████| 2347/2347 [19:36<00:00,  2.00it/s]\n"
     ]
    },
    {
     "name": "stdout",
     "output_type": "stream",
     "text": [
      "Mode: Eval\n",
      "Using cuda\n",
      "Batch size: 4, Batches: 261, Samples: 10431\n",
      "Patients: 187, Sessions: 218\n"
     ]
    },
    {
     "name": "stderr",
     "output_type": "stream",
     "text": [
      "100%|██████████| 261/261 [00:38<00:00,  6.70it/s]\n"
     ]
    },
    {
     "name": "stdout",
     "output_type": "stream",
     "text": [
      "Epoch 03 | train 1.1663e-01 | val 1.2187e-01\n",
      "New best model saved to /home/spieterman/dev/projects/dwi-transformer/checkpoints/best_ae.pt (val=1.2187e-01)\n",
      "Mode: Train\n",
      "Using cuda\n",
      "Batch size: 4, Batches: 2347, Samples: 10431\n",
      "Patients: 187, Sessions: 218\n"
     ]
    },
    {
     "name": "stderr",
     "output_type": "stream",
     "text": [
      "100%|██████████| 2347/2347 [19:34<00:00,  2.00it/s]\n"
     ]
    },
    {
     "name": "stdout",
     "output_type": "stream",
     "text": [
      "Mode: Eval\n",
      "Using cuda\n",
      "Batch size: 4, Batches: 261, Samples: 10431\n",
      "Patients: 187, Sessions: 218\n"
     ]
    },
    {
     "name": "stderr",
     "output_type": "stream",
     "text": [
      "100%|██████████| 261/261 [00:38<00:00,  6.72it/s]\n"
     ]
    },
    {
     "name": "stdout",
     "output_type": "stream",
     "text": [
      "Epoch 04 | train 1.0697e-01 | val 1.2320e-01\n",
      "no improvement (1/3)\n",
      "Mode: Train\n",
      "Using cuda\n",
      "Batch size: 4, Batches: 2347, Samples: 10431\n",
      "Patients: 187, Sessions: 218\n"
     ]
    },
    {
     "name": "stderr",
     "output_type": "stream",
     "text": [
      "100%|██████████| 2347/2347 [19:34<00:00,  2.00it/s]\n"
     ]
    },
    {
     "name": "stdout",
     "output_type": "stream",
     "text": [
      "Mode: Eval\n",
      "Using cuda\n",
      "Batch size: 4, Batches: 261, Samples: 10431\n",
      "Patients: 187, Sessions: 218\n"
     ]
    },
    {
     "name": "stderr",
     "output_type": "stream",
     "text": [
      "100%|██████████| 261/261 [00:38<00:00,  6.71it/s]\n"
     ]
    },
    {
     "name": "stdout",
     "output_type": "stream",
     "text": [
      "Epoch 05 | train 1.0498e-01 | val 1.0866e-01\n",
      "New best model saved to /home/spieterman/dev/projects/dwi-transformer/checkpoints/best_ae.pt (val=1.0866e-01)\n",
      "Mode: Train\n",
      "Using cuda\n",
      "Batch size: 4, Batches: 2347, Samples: 10431\n",
      "Patients: 187, Sessions: 218\n"
     ]
    },
    {
     "name": "stderr",
     "output_type": "stream",
     "text": [
      "100%|██████████| 2347/2347 [19:34<00:00,  2.00it/s]\n"
     ]
    },
    {
     "name": "stdout",
     "output_type": "stream",
     "text": [
      "Mode: Eval\n",
      "Using cuda\n",
      "Batch size: 4, Batches: 261, Samples: 10431\n",
      "Patients: 187, Sessions: 218\n"
     ]
    },
    {
     "name": "stderr",
     "output_type": "stream",
     "text": [
      "100%|██████████| 261/261 [00:38<00:00,  6.74it/s]\n"
     ]
    },
    {
     "name": "stdout",
     "output_type": "stream",
     "text": [
      "Epoch 06 | train 1.0183e-01 | val 1.3241e-01\n",
      "no improvement (1/3)\n",
      "Mode: Train\n",
      "Using cuda\n",
      "Batch size: 4, Batches: 2347, Samples: 10431\n",
      "Patients: 187, Sessions: 218\n"
     ]
    },
    {
     "name": "stderr",
     "output_type": "stream",
     "text": [
      "100%|██████████| 2347/2347 [19:27<00:00,  2.01it/s]\n"
     ]
    },
    {
     "name": "stdout",
     "output_type": "stream",
     "text": [
      "Mode: Eval\n",
      "Using cuda\n",
      "Batch size: 4, Batches: 261, Samples: 10431\n",
      "Patients: 187, Sessions: 218\n"
     ]
    },
    {
     "name": "stderr",
     "output_type": "stream",
     "text": [
      "100%|██████████| 261/261 [00:38<00:00,  6.71it/s]\n"
     ]
    },
    {
     "name": "stdout",
     "output_type": "stream",
     "text": [
      "Epoch 07 | train 1.0065e-01 | val 1.0806e-01\n",
      "New best model saved to /home/spieterman/dev/projects/dwi-transformer/checkpoints/best_ae.pt (val=1.0806e-01)\n",
      "Mode: Train\n",
      "Using cuda\n",
      "Batch size: 4, Batches: 2347, Samples: 10431\n",
      "Patients: 187, Sessions: 218\n"
     ]
    },
    {
     "name": "stderr",
     "output_type": "stream",
     "text": [
      "100%|██████████| 2347/2347 [19:29<00:00,  2.01it/s]\n"
     ]
    },
    {
     "name": "stdout",
     "output_type": "stream",
     "text": [
      "Mode: Eval\n",
      "Using cuda\n",
      "Batch size: 4, Batches: 261, Samples: 10431\n",
      "Patients: 187, Sessions: 218\n"
     ]
    },
    {
     "name": "stderr",
     "output_type": "stream",
     "text": [
      "100%|██████████| 261/261 [00:38<00:00,  6.71it/s]\n"
     ]
    },
    {
     "name": "stdout",
     "output_type": "stream",
     "text": [
      "Epoch 08 | train 9.2498e-02 | val 1.1553e-01\n",
      "no improvement (1/3)\n",
      "Mode: Train\n",
      "Using cuda\n",
      "Batch size: 4, Batches: 2347, Samples: 10431\n",
      "Patients: 187, Sessions: 218\n"
     ]
    },
    {
     "name": "stderr",
     "output_type": "stream",
     "text": [
      "  3%|▎         | 73/2347 [00:37<19:21,  1.96it/s]\n"
     ]
    },
    {
     "ename": "KeyboardInterrupt",
     "evalue": "",
     "output_type": "error",
     "traceback": [
      "\u001b[0;31m---------------------------------------------------------------------------\u001b[0m",
      "\u001b[0;31mKeyboardInterrupt\u001b[0m                         Traceback (most recent call last)",
      "Cell \u001b[0;32mIn[14], line 19\u001b[0m\n\u001b[1;32m     16\u001b[0m history \u001b[38;5;241m=\u001b[39m {\u001b[38;5;124m\"\u001b[39m\u001b[38;5;124mepoch\u001b[39m\u001b[38;5;124m\"\u001b[39m: [], \u001b[38;5;124m\"\u001b[39m\u001b[38;5;124mtrain_loss\u001b[39m\u001b[38;5;124m\"\u001b[39m: [], \u001b[38;5;124m\"\u001b[39m\u001b[38;5;124mval_loss\u001b[39m\u001b[38;5;124m\"\u001b[39m: []}\n\u001b[1;32m     18\u001b[0m \u001b[38;5;28;01mfor\u001b[39;00m epoch \u001b[38;5;129;01min\u001b[39;00m \u001b[38;5;28mrange\u001b[39m(\u001b[38;5;241m1\u001b[39m, EPOCHS \u001b[38;5;241m+\u001b[39m \u001b[38;5;241m1\u001b[39m):\n\u001b[0;32m---> 19\u001b[0m     train_loss \u001b[38;5;241m=\u001b[39m \u001b[43mrun_epoch\u001b[49m\u001b[43m(\u001b[49m\u001b[43mmodel\u001b[49m\u001b[43m,\u001b[49m\u001b[43m \u001b[49m\u001b[43mtrain_loader\u001b[49m\u001b[43m,\u001b[49m\u001b[43m \u001b[49m\u001b[43mcriterion\u001b[49m\u001b[43m,\u001b[49m\u001b[43m \u001b[49m\u001b[43moptimiser\u001b[49m\u001b[43m)\u001b[49m\n\u001b[1;32m     21\u001b[0m     torch\u001b[38;5;241m.\u001b[39mcuda\u001b[38;5;241m.\u001b[39mempty_cache()  \u001b[38;5;66;03m# <- keep this to prevent OOM\u001b[39;00m\n\u001b[1;32m     22\u001b[0m     val_loss \u001b[38;5;241m=\u001b[39m run_epoch(model, val_loader, criterion)\n",
      "Cell \u001b[0;32mIn[13], line 32\u001b[0m, in \u001b[0;36mrun_epoch\u001b[0;34m(model, loader, criterion, optimiser)\u001b[0m\n\u001b[1;32m     29\u001b[0m             loss\u001b[38;5;241m.\u001b[39mbackward()\n\u001b[1;32m     30\u001b[0m             optimiser\u001b[38;5;241m.\u001b[39mstep()\n\u001b[0;32m---> 32\u001b[0m         running_loss \u001b[38;5;241m+\u001b[39m\u001b[38;5;241m=\u001b[39m \u001b[43mloss\u001b[49m\u001b[38;5;241;43m.\u001b[39;49m\u001b[43mitem\u001b[49m\u001b[43m(\u001b[49m\u001b[43m)\u001b[49m\n\u001b[1;32m     33\u001b[0m         n_batches \u001b[38;5;241m+\u001b[39m\u001b[38;5;241m=\u001b[39m \u001b[38;5;241m1\u001b[39m\n\u001b[1;32m     35\u001b[0m \u001b[38;5;28;01mreturn\u001b[39;00m running_loss \u001b[38;5;241m/\u001b[39m n_batches\n",
      "\u001b[0;31mKeyboardInterrupt\u001b[0m: "
     ]
    }
   ],
   "source": [
    "import pandas as pd\n",
    "\n",
    "# Clean up memory\n",
    "torch.cuda.empty_cache()\n",
    "gc.collect()\n",
    "\n",
    "chkpt_path = Path(\"/home/spieterman/dev/projects/dwi-transformer/checkpoints/best_ae.pt\")\n",
    "patience   = 3          # epochs with no val-improvement before stop\n",
    "best_val   = np.inf\n",
    "pat_wait   = 0\n",
    "\n",
    "model = SlimAutoencoder(z_dim=LATENT_DIM).to(DEVICE)\n",
    "optimiser = torch.optim.Adam(model.parameters(), lr=LR)\n",
    "criterion = nn.MSELoss()\n",
    "\n",
    "history = {\"epoch\": [], \"train_loss\": [], \"val_loss\": []}\n",
    "\n",
    "for epoch in range(1, EPOCHS + 1):\n",
    "    train_loss = run_epoch(model, train_loader, criterion, optimiser)\n",
    "    \n",
    "    torch.cuda.empty_cache()  # <- keep this to prevent OOM\n",
    "    val_loss = run_epoch(model, val_loader, criterion)\n",
    "\n",
    "    history[\"epoch\"].append(epoch)\n",
    "    history[\"train_loss\"].append(train_loss)\n",
    "    history[\"val_loss\"].append(val_loss)\n",
    "\n",
    "    print(f\"Epoch {epoch:02d} | train {train_loss:.4e} | val {val_loss:.4e}\")\n",
    "\n",
    "    # Early stopping\n",
    "    if val_loss < best_val - 1e-6:                 # small epsilon to avoid tiny fluctuations\n",
    "        best_val = val_loss\n",
    "        pat_wait = 0\n",
    "        torch.save({\"epoch\": epoch,\n",
    "                    \"model_state\": model.state_dict(),\n",
    "                    \"optim_state\": optimiser.state_dict(),\n",
    "                    \"val_loss\": best_val},\n",
    "                   chkpt_path)\n",
    "        print(f\"New best model saved to {chkpt_path} (val={best_val:.4e})\")\n",
    "    else:\n",
    "        pat_wait += 1\n",
    "        print(f\"no improvement ({pat_wait}/{patience})\")\n",
    "\n",
    "    if pat_wait >= patience:\n",
    "        print(\"Early stopping triggered.\")\n",
    "        break\n",
    "\n",
    "hist_df = pd.DataFrame(history)"
   ]
  },
  {
   "cell_type": "code",
   "execution_count": null,
   "id": "07755a97",
   "metadata": {},
   "outputs": [
    {
     "data": {
      "image/png": "[encoded data removed]",
      "text/plain": [
       "<Figure size 640x480 with 1 Axes>"
      ]
     },
     "metadata": {},
     "output_type": "display_data"
    }
   ],
   "source": [
    "import pandas as pd, seaborn as sns, matplotlib.pyplot as plt\n",
    "\n",
    "hist_df = pd.DataFrame(history)\n",
    "\n",
    "sns.lineplot(data=hist_df, x=\"epoch\", y=\"train_loss\",\n",
    "             marker=\"o\", label=\"train\")\n",
    "sns.lineplot(data=hist_df, x=\"epoch\", y=\"val_loss\",\n",
    "             marker=\"x\", linestyle=\"--\", label=\"val\")\n",
    "plt.xlabel(\"Epoch\")\n",
    "plt.ylabel(\"MSE loss\")\n",
    "plt.title(\"AE reconstruction loss\")\n",
    "plt.show()"
   ]
  },
  {
   "cell_type": "code",
   "execution_count": 35,
   "id": "3021e065",
   "metadata": {},
   "outputs": [
    {
     "name": "stdout",
     "output_type": "stream",
     "text": [
      "Loaded best model from epoch 7  (val=1.0806e-01)\n"
     ]
    },
    {
     "name": "stderr",
     "output_type": "stream",
     "text": [
      "/tmp/ipykernel_3378/3059728171.py:1: FutureWarning: You are using `torch.load` with `weights_only=False` (the current default value), which uses the default pickle module implicitly. It is possible to construct malicious pickle data which will execute arbitrary code during unpickling (See https://github.com/pytorch/pytorch/blob/main/SECURITY.md#untrusted-models for more details). In a future release, the default value for `weights_only` will be flipped to `True`. This limits the functions that could be executed during unpickling. Arbitrary objects will no longer be allowed to be loaded via this mode unless they are explicitly allowlisted by the user via `torch.serialization.add_safe_globals`. We recommend you start setting `weights_only=True` for any use case where you don't have full control of the loaded file. Please open an issue on GitHub for any issues related to this experimental feature.\n",
      "  checkpoint = torch.load(chkpt_path, map_location=DEVICE)\n"
     ]
    },
    {
     "data": {
      "image/png": "[encoded data removed]",
      "text/plain": [
       "<Figure size 800x400 with 2 Axes>"
      ]
     },
     "metadata": {},
     "output_type": "display_data"
    }
   ],
   "source": [
    "checkpoint = torch.load(chkpt_path, map_location=DEVICE)\n",
    "model.load_state_dict(checkpoint[\"model_state\"])\n",
    "model.eval()\n",
    "print(f\"Loaded best model from epoch {checkpoint['epoch']}  (val={checkpoint['val_loss']:.4e})\")\n",
    "\n",
    "# fetch a single batch from validation loader\n",
    "batch = next(iter(val_loader))\n",
    "\n",
    "# depending on your collate_fn, batch may be a dict or tuple\n",
    "if isinstance(batch, dict):\n",
    "    vols = batch[\"vol\"]                      # shape (B, 1, 91, 109, 91)\n",
    "else:\n",
    "    vols = batch[0]                          # dataset already yielded the tensor\n",
    "\n",
    "sample = vols[:1].to(DEVICE)                 # keep one sample\n",
    "\n",
    "with torch.no_grad():\n",
    "    recon = model(sample)\n",
    "\n",
    "# choose an axial slice halfway through the z-dimension\n",
    "D, H, W = sample.shape[-3:]\n",
    "mid_z = D // 2\n",
    "\n",
    "fig, ax = plt.subplots(1, 2, figsize=(8, 4))\n",
    "ax[0].imshow(sample.cpu()[0, 0, mid_z], cmap=\"gray\")\n",
    "ax[0].set_title(\"Input\")\n",
    "ax[0].axis(\"off\")\n",
    "\n",
    "ax[1].imshow(recon.cpu()[0, 0, mid_z], cmap=\"gray\")\n",
    "ax[1].set_title(\"Reconstruction\")\n",
    "ax[1].axis(\"off\")\n",
    "\n",
    "plt.tight_layout()\n",
    "plt.show()"
   ]
  }
 ],
 "metadata": {
  "kernelspec": {
   "display_name": ".venv",
   "language": "python",
   "name": "python3"
  },
  "language_info": {
   "codemirror_mode": {
    "name": "ipython",
    "version": 3
   },
   "file_extension": ".py",
   "mimetype": "text/x-python",
   "name": "python",
   "nbconvert_exporter": "python",
   "pygments_lexer": "ipython3",
   "version": "3.10.12"
  }
 },
 "nbformat": 4,
 "nbformat_minor": 5
}
